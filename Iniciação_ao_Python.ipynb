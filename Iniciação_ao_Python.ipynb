{
  "nbformat": 4,
  "nbformat_minor": 0,
  "metadata": {
    "colab": {
      "provenance": [],
      "toc_visible": true,
      "authorship_tag": "ABX9TyN0Mf9bunvB2RKsjDO4s8wi",
      "include_colab_link": true
    },
    "kernelspec": {
      "name": "python3",
      "display_name": "Python 3"
    },
    "language_info": {
      "name": "python"
    }
  },
  "cells": [
    {
      "cell_type": "markdown",
      "metadata": {
        "id": "view-in-github",
        "colab_type": "text"
      },
      "source": [
        "<a href=\"https://colab.research.google.com/github/OliveiraNaty/Repositor-Teste/blob/main/Inicia%C3%A7%C3%A3o_ao_Python.ipynb\" target=\"_parent\"><img src=\"https://colab.research.google.com/assets/colab-badge.svg\" alt=\"Open In Colab\"/></a>"
      ]
    },
    {
      "cell_type": "code",
      "execution_count": 1,
      "metadata": {
        "colab": {
          "base_uri": "https://localhost:8080/"
        },
        "id": "fxfzwS4gWKKs",
        "outputId": "af520181-c269-4a6a-9239-dc79cb487431"
      },
      "outputs": [
        {
          "output_type": "stream",
          "name": "stdout",
          "text": [
            "I Competição e Programação da Star\n"
          ]
        }
      ],
      "source": [
        "print(\"I Competição e Programação da Star\")"
      ]
    },
    {
      "cell_type": "code",
      "source": [
        "ano = \"II\"\n",
        "\n",
        "print(ano, \"Competição de Programação da Start\")"
      ],
      "metadata": {
        "colab": {
          "base_uri": "https://localhost:8080/"
        },
        "id": "eZQvp7vdWa2j",
        "outputId": "a7b3f42a-52b5-462f-89fb-142e08cd9657"
      },
      "execution_count": 9,
      "outputs": [
        {
          "output_type": "stream",
          "name": "stdout",
          "text": [
            "II Competição de Programação da Start\n"
          ]
        }
      ]
    },
    {
      "cell_type": "code",
      "source": [
        "print(f\"{ano} Competição de Programação da Start\")"
      ],
      "metadata": {
        "colab": {
          "base_uri": "https://localhost:8080/"
        },
        "id": "0PC-OhvmZElm",
        "outputId": "f7d74beb-ba6e-446e-85a1-abc00633c5ac"
      },
      "execution_count": 10,
      "outputs": [
        {
          "output_type": "stream",
          "name": "stdout",
          "text": [
            "II Competição de Programação da Start\n"
          ]
        }
      ]
    },
    {
      "cell_type": "markdown",
      "source": [
        "## Aula 2"
      ],
      "metadata": {
        "id": "U-dpoEWDbUPo"
      }
    },
    {
      "cell_type": "markdown",
      "source": [
        "Uma escola está promovendo uma campanha de incentivo à leitura, em que cada estudante recebe pontos ao concluir livros. Esses pontos podem ser trocados por diferentes prêmios da escola, e as categorias de livros têm valores diferntes de pontos:\n",
        "\n",
        "* Ficção: 10 pontos;\n",
        "* Não ficção: 8 pontos;\n",
        "* Infantis: 6 pontos.\n",
        "\n",
        "Rodrigo, um estudante dessa escola, leu um livro de cada categoria e, agora, quer saber quantos pontos acumulou com sua leitura. Para isso, você deve criar um programa em Python que tenha as seguintes características:\n",
        "\n",
        "* Consiga armazenar os pontos de cada categoria de livro;\n",
        "* Calcule os pontos de Rodrigo;\n",
        "* Apresente na tela os pontos de Rodrigo.\n"
      ],
      "metadata": {
        "id": "Zo93f3oNbXwo"
      }
    },
    {
      "cell_type": "markdown",
      "source": [],
      "metadata": {
        "id": "dbkt90tjbhT9"
      }
    }
  ]
}