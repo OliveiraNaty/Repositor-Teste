{
  "nbformat": 4,
  "nbformat_minor": 0,
  "metadata": {
    "colab": {
      "provenance": [],
      "toc_visible": true,
      "authorship_tag": "ABX9TyOryJRCGOYaGQuaqyqywQaX",
      "include_colab_link": true
    },
    "kernelspec": {
      "name": "python3",
      "display_name": "Python 3"
    },
    "language_info": {
      "name": "python"
    }
  },
  "cells": [
    {
      "cell_type": "markdown",
      "metadata": {
        "id": "view-in-github",
        "colab_type": "text"
      },
      "source": [
        "<a href=\"https://colab.research.google.com/github/OliveiraNaty/Repositor-Teste/blob/main/Inicia%C3%A7%C3%A3o_ao_Python.ipynb\" target=\"_parent\"><img src=\"https://colab.research.google.com/assets/colab-badge.svg\" alt=\"Open In Colab\"/></a>"
      ]
    },
    {
      "cell_type": "code",
      "execution_count": null,
      "metadata": {
        "colab": {
          "base_uri": "https://localhost:8080/"
        },
        "id": "fxfzwS4gWKKs",
        "outputId": "af520181-c269-4a6a-9239-dc79cb487431"
      },
      "outputs": [
        {
          "output_type": "stream",
          "name": "stdout",
          "text": [
            "I Competição e Programação da Star\n"
          ]
        }
      ],
      "source": [
        "print(\"I Competição e Programação da Star\")"
      ]
    },
    {
      "cell_type": "code",
      "source": [
        "ano = \"II\"\n",
        "\n",
        "print(ano, \"Competição de Programação da Start\")"
      ],
      "metadata": {
        "colab": {
          "base_uri": "https://localhost:8080/"
        },
        "id": "eZQvp7vdWa2j",
        "outputId": "a7b3f42a-52b5-462f-89fb-142e08cd9657"
      },
      "execution_count": null,
      "outputs": [
        {
          "output_type": "stream",
          "name": "stdout",
          "text": [
            "II Competição de Programação da Start\n"
          ]
        }
      ]
    },
    {
      "cell_type": "code",
      "source": [
        "print(f\"{ano} Competição de Programação da Start\")"
      ],
      "metadata": {
        "colab": {
          "base_uri": "https://localhost:8080/"
        },
        "id": "0PC-OhvmZElm",
        "outputId": "f7d74beb-ba6e-446e-85a1-abc00633c5ac"
      },
      "execution_count": null,
      "outputs": [
        {
          "output_type": "stream",
          "name": "stdout",
          "text": [
            "II Competição de Programação da Start\n"
          ]
        }
      ]
    },
    {
      "cell_type": "markdown",
      "source": [
        "## Aula 2"
      ],
      "metadata": {
        "id": "U-dpoEWDbUPo"
      }
    },
    {
      "cell_type": "markdown",
      "source": [
        "Uma escola está promovendo uma campanha de incentivo à leitura, em que cada estudante recebe pontos ao concluir livros. Esses pontos podem ser trocados por diferentes prêmios da escola, e as categorias de livros têm valores diferntes de pontos:\n",
        "\n",
        "* Ficção: 10 pontos;\n",
        "* Não ficção: 8 pontos;\n",
        "* Infantis: 6 pontos.\n",
        "\n",
        "Rodrigo, um estudante dessa escola, leu um livro de cada categoria e, agora, quer saber quantos pontos acumulou com sua leitura. Para isso, você deve criar um programa em Python que tenha as seguintes características:\n",
        "\n",
        "* Consiga armazenar os pontos de cada categoria de livro;\n",
        "* Calcule os pontos de Rodrigo;\n",
        "* Apresente na tela os pontos de Rodrigo.\n"
      ],
      "metadata": {
        "id": "Zo93f3oNbXwo"
      }
    },
    {
      "cell_type": "code",
      "source": [
        "livro_ficcao = 10\n",
        "livro_nficcao = 8\n",
        "livro_infantil = 6\n",
        "\n",
        "pontos_rodrigo = livro_ficcao + livro_nficcao + livro_infantil\n",
        "\n",
        "print(f\"Os pontos totais de Rodrigo são: {pontos_rodrigo} pontos\")"
      ],
      "metadata": {
        "colab": {
          "base_uri": "https://localhost:8080/"
        },
        "id": "AV8bvD3P4mb_",
        "outputId": "cf86ebfc-a862-466a-bb63-898011b0cce9"
      },
      "execution_count": 4,
      "outputs": [
        {
          "output_type": "stream",
          "name": "stdout",
          "text": [
            "Os pontos totais de Rodrigo são: 24 pontos\n"
          ]
        }
      ]
    },
    {
      "cell_type": "markdown",
      "source": [
        "Ana, outra estudante dessa escola, participou da campanha e leu dois livros de ficção e cinco livros infantis.\n",
        "\n",
        " Como podemos calcular o total de pontos de Ana? Será que é possível calcular o total de pontos acumulados por Rodrigo e Ana juntos?"
      ],
      "metadata": {
        "id": "4OyPyfe_6cIQ"
      }
    },
    {
      "cell_type": "code",
      "source": [
        "livro_ficcao = 10\n",
        "livro_nficcao = 8\n",
        "livro_infantil = 6\n",
        "\n",
        "pontos_ana = 2 * livro_ficcao + 5 * livro_infantil\n",
        "\n",
        "print(f\"Os pontos totais de Ana são: {pontos_ana} pontos\")"
      ],
      "metadata": {
        "colab": {
          "base_uri": "https://localhost:8080/"
        },
        "outputId": "e6e070ba-011c-4644-f8cc-49ed073ce0f1",
        "id": "uLafdiej8cp9"
      },
      "execution_count": 6,
      "outputs": [
        {
          "output_type": "stream",
          "name": "stdout",
          "text": [
            "Os pontos totais de Ana são: 50 pontos\n"
          ]
        }
      ]
    }
  ]
}