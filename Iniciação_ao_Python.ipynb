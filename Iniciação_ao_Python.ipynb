{
  "nbformat": 4,
  "nbformat_minor": 0,
  "metadata": {
    "colab": {
      "provenance": [],
      "toc_visible": true,
      "authorship_tag": "ABX9TyMAFpJZVU6TbiYGU7llAi9e",
      "include_colab_link": true
    },
    "kernelspec": {
      "name": "python3",
      "display_name": "Python 3"
    },
    "language_info": {
      "name": "python"
    }
  },
  "cells": [
    {
      "cell_type": "markdown",
      "metadata": {
        "id": "view-in-github",
        "colab_type": "text"
      },
      "source": [
        "<a href=\"https://colab.research.google.com/github/OliveiraNaty/Repositor-Teste/blob/main/Inicia%C3%A7%C3%A3o_ao_Python.ipynb\" target=\"_parent\"><img src=\"https://colab.research.google.com/assets/colab-badge.svg\" alt=\"Open In Colab\"/></a>"
      ]
    },
    {
      "cell_type": "markdown",
      "source": [
        "# Aula 1"
      ],
      "metadata": {
        "id": "AQdJb1o2-Dek"
      }
    },
    {
      "cell_type": "code",
      "execution_count": null,
      "metadata": {
        "colab": {
          "base_uri": "https://localhost:8080/"
        },
        "id": "fxfzwS4gWKKs",
        "outputId": "af520181-c269-4a6a-9239-dc79cb487431"
      },
      "outputs": [
        {
          "output_type": "stream",
          "name": "stdout",
          "text": [
            "I Competição e Programação da Star\n"
          ]
        }
      ],
      "source": [
        "print(\"I Competição e Programação da Star\")"
      ]
    },
    {
      "cell_type": "code",
      "source": [
        "ano = \"II\"\n",
        "\n",
        "print(ano, \"Competição de Programação da Start\")"
      ],
      "metadata": {
        "colab": {
          "base_uri": "https://localhost:8080/"
        },
        "id": "eZQvp7vdWa2j",
        "outputId": "a7b3f42a-52b5-462f-89fb-142e08cd9657"
      },
      "execution_count": null,
      "outputs": [
        {
          "output_type": "stream",
          "name": "stdout",
          "text": [
            "II Competição de Programação da Start\n"
          ]
        }
      ]
    },
    {
      "cell_type": "code",
      "source": [
        "print(f\"{ano} Competição de Programação da Start\")"
      ],
      "metadata": {
        "colab": {
          "base_uri": "https://localhost:8080/"
        },
        "id": "0PC-OhvmZElm",
        "outputId": "f7d74beb-ba6e-446e-85a1-abc00633c5ac"
      },
      "execution_count": null,
      "outputs": [
        {
          "output_type": "stream",
          "name": "stdout",
          "text": [
            "II Competição de Programação da Start\n"
          ]
        }
      ]
    },
    {
      "cell_type": "markdown",
      "source": [
        "## Aula 2"
      ],
      "metadata": {
        "id": "U-dpoEWDbUPo"
      }
    },
    {
      "cell_type": "markdown",
      "source": [
        "Uma escola está promovendo uma campanha de incentivo à leitura, em que cada estudante recebe pontos ao concluir livros. Esses pontos podem ser trocados por diferentes prêmios da escola, e as categorias de livros têm valores diferntes de pontos:\n",
        "\n",
        "* Ficção: 10 pontos;\n",
        "* Não ficção: 8 pontos;\n",
        "* Infantis: 6 pontos.\n",
        "\n",
        "Rodrigo, um estudante dessa escola, leu um livro de cada categoria e, agora, quer saber quantos pontos acumulou com sua leitura. Para isso, você deve criar um programa em Python que tenha as seguintes características:\n",
        "\n",
        "* Consiga armazenar os pontos de cada categoria de livro;\n",
        "* Calcule os pontos de Rodrigo;\n",
        "* Apresente na tela os pontos de Rodrigo.\n"
      ],
      "metadata": {
        "id": "Zo93f3oNbXwo"
      }
    },
    {
      "cell_type": "code",
      "source": [
        "livro_ficcao = 10\n",
        "livro_nficcao = 8\n",
        "livro_infantil = 6\n",
        "\n",
        "pontos_rodrigo = livro_ficcao + livro_nficcao + livro_infantil\n",
        "\n",
        "print(f\"Os pontos totais de Rodrigo são: {pontos_rodrigo} pontos\")"
      ],
      "metadata": {
        "colab": {
          "base_uri": "https://localhost:8080/"
        },
        "id": "AV8bvD3P4mb_",
        "outputId": "cf86ebfc-a862-466a-bb63-898011b0cce9"
      },
      "execution_count": null,
      "outputs": [
        {
          "output_type": "stream",
          "name": "stdout",
          "text": [
            "Os pontos totais de Rodrigo são: 24 pontos\n"
          ]
        }
      ]
    },
    {
      "cell_type": "markdown",
      "source": [
        "Ana, outra estudante dessa escola, participou da campanha e leu dois livros de ficção e cinco livros infantis.\n",
        "\n",
        " Como podemos calcular o total de pontos de Ana? Será que é possível calcular o total de pontos acumulados por Rodrigo e Ana juntos?"
      ],
      "metadata": {
        "id": "4OyPyfe_6cIQ"
      }
    },
    {
      "cell_type": "code",
      "source": [
        "livro_ficcao = 10\n",
        "livro_nficcao = 8\n",
        "livro_infantil = 6\n",
        "\n",
        "pontos_ana = 2 * livro_ficcao + 5  *livro_infantil\n",
        "\n",
        "print(f\"Os pontos totais de Ana são: {pontos_ana} pontos\")"
      ],
      "metadata": {
        "colab": {
          "base_uri": "https://localhost:8080/"
        },
        "outputId": "378e94c9-c891-4674-852b-5ca8d24d46c0",
        "id": "uLafdiej8cp9"
      },
      "execution_count": null,
      "outputs": [
        {
          "output_type": "stream",
          "name": "stdout",
          "text": [
            "Os pontos totais de Ana são: 50 pontos\n"
          ]
        }
      ]
    },
    {
      "cell_type": "markdown",
      "source": [
        "# Aula 3\n"
      ],
      "metadata": {
        "id": "gtPmdD089ZrL"
      }
    },
    {
      "cell_type": "markdown",
      "source": [
        "A turma do segundo ano encontrou um envelope cheio de figurinhas. Para garantir uma divisão justa, todos concordaram com a sugestão de Jõao, o dono do envelope:\n",
        "\n",
        "Cada amigo, exceto João, deve receber exatamente o mesmo número de figurinhas. João deve receber o dobro da quantidade que cada amigo recebe. Pode ser que o fato de João ser o dono do envelope tenha ajudado do a convencer os amigos, mas também contribuiu o fato de que, do jeito proposto, a divisão era exata, sem sobrar nem faltar figurinhas.\n",
        "\n",
        "**Problema:**\n",
        "\n",
        "Crie um programa que determine a quantidade de figurinhas que João recebeu, dado o número total de figurinhas no envelope e o número de amigos de João.\n",
        "\n",
        "**Entrada**\n",
        "\n",
        "\n",
        "*   A primeira linha contém um número inteiro total_de_figurinhas, que representa o número de figurinhas no envelope.\n",
        "*   A segunda linha contém um número inteiro numero_amigos, que represeta a quantidade de amigos de João (excluindo o próprio João).\n",
        "\n"
      ],
      "metadata": {
        "id": "ZKA--WXD-OqS"
      }
    },
    {
      "cell_type": "code",
      "source": [
        "total_figurinhas = int(input(\"Digite o total de figurinhas: \"))\n",
        "numero_amigos = int(input(\"Digite o número de amigos: \"))\n",
        "\n",
        "figurinhas_amigos = total_figurinhas // (numero_amigos + 2)\n",
        "figurinhas_joao = 2 * figurinhas_amigos\n",
        "\n",
        "print(f\"João recebeu {figurinhas_joao} figurinhas.\")"
      ],
      "metadata": {
        "colab": {
          "base_uri": "https://localhost:8080/"
        },
        "id": "ya5-GJLiBgN3",
        "outputId": "a3fd7566-814c-4477-94e9-e3ba0d6f2258"
      },
      "execution_count": null,
      "outputs": [
        {
          "output_type": "stream",
          "name": "stdout",
          "text": [
            "Digite o total de figurinhas: 100\n",
            "Digite o número de amigos: 5\n",
            "João recebeu 28 figurinhas.\n"
          ]
        }
      ]
    },
    {
      "cell_type": "markdown",
      "source": [
        "Depois de dividir as figurinhas no recreio, João percebeu que ainda havia algumas figurinhas extras em sua mochila. Ele decidiu que essas figurinhas extras também deveriam ser distribuídas de forma justa entre ele e seus amigos, mantendo a mesma regra:\n",
        "\n",
        "Cada amigo recebe uma quantidade igual de figurinhas. João recebe o dobro da quantidade de figurinhas que cada amigo recebe. Ajude João a distribuir todas as figurinhas, incluindo as extras, de maneira justa, sem deixar nenhuma figurinha sobrando."
      ],
      "metadata": {
        "id": "F0u0WLUWD4vc"
      }
    },
    {
      "cell_type": "code",
      "source": [
        "total_figurinhas = int(input(\"Digite o total de figurinhas, incluindo as extras: \"))\n",
        "numero_amigos = int(input(\"Digite o número de amigos: \"))\n",
        "\n",
        "figurinhas_amigos = total_figurinhas // (numero_amigos + 2)\n",
        "figurinhas_joao = 2 * figurinhas_amigos\n",
        "\n",
        "print(f\"João recebeu {figurinhas_joao} figurinhas.\")"
      ],
      "metadata": {
        "id": "PkFvJnVgFneE",
        "colab": {
          "base_uri": "https://localhost:8080/"
        },
        "outputId": "2236e223-ffdc-43e6-8138-7f2d50bb1280"
      },
      "execution_count": null,
      "outputs": [
        {
          "output_type": "stream",
          "name": "stdout",
          "text": [
            "Digite o total de figurinhas, incluindo as extras: 40\n",
            "Digite o número de amigos: 5\n",
            "João recebeu 10 figurinhas.\n"
          ]
        }
      ]
    },
    {
      "cell_type": "markdown",
      "source": [
        "# Aula 4"
      ],
      "metadata": {
        "id": "ezoLJ4Tigr71"
      }
    },
    {
      "cell_type": "markdown",
      "source": [
        "A turma de um colégio está organizando uma excursão para a serra e, para chegar ao pico da montanha, todos alunos e monitores devem usar um bondinho. No entanto, a cabine do bondinho tem uma capacidade máxima para 50 pessoas por viagem.\n",
        "\n",
        "**Entrada**\n",
        "*   Um número inteiro numero_alunos, representando a quantidade de alunos na excursão.\n",
        "*   Um número inteiro numero_monitores, representando a quantidade de monitores da excursão.\n",
        "\n"
      ],
      "metadata": {
        "id": "fwAKqPxvhAUt"
      }
    },
    {
      "cell_type": "code",
      "source": [
        "numero_alunos = int(input(\"Digite a quantidade de alunos: \"))\n",
        "numero_monitores = int(input(\"Digite a quantidade de monitores: \"))\n",
        "resposta_positiva = \"Pode ir\"\n",
        "resposta_negativa = \"Não pode ir\"\n",
        "\n",
        "if numero_alunos + numero_monitores <= 50:\n",
        "  print(resposta_positiva)\n",
        "else:\n",
        "  print(resposta_negativa)"
      ],
      "metadata": {
        "colab": {
          "base_uri": "https://localhost:8080/"
        },
        "id": "MxpYP-gzDdw9",
        "outputId": "0f0880bd-0fbd-456b-f320-05cc1902297e"
      },
      "execution_count": 3,
      "outputs": [
        {
          "output_type": "stream",
          "name": "stdout",
          "text": [
            "Digite a quantidade de alunos: 27\n",
            "Digite a quantidade de monitores: 20\n",
            "Pode ir\n"
          ]
        }
      ]
    },
    {
      "cell_type": "markdown",
      "source": [
        "Agora, imagine que infelizmente o bondinho que carrega 50 pessoas está em manutenção e agora todo mundo vai precisar usar um bondimho menos sufisticado e ele só leva 30 pessoas. Além disso, 8 professores do cólegio também vão participar da excursão. Como fazemos para garantir que o número total de pessoas no bondinho (alunos, monitores e professores) não ultrapasse a capacidade máxima de 30 pessoas?"
      ],
      "metadata": {
        "id": "NAdSuyVoEq43"
      }
    },
    {
      "cell_type": "code",
      "source": [
        "numero_alunos = int(input(\"Digite a quantidade de alunos: \"))\n",
        "numero_monitores = int(input(\"Digite a quantidade de monitores: \"))\n",
        "numero_professores = int(input(\"Digite a quantidade de professores: \"))\n",
        "resposta_positiva = \"Pode ir\"\n",
        "resposta_negativa = \"Não pode ir\"\n",
        "\n",
        "if numero_alunos + numero_monitores + numero_professores <= 30:\n",
        "  print(resposta_positiva)\n",
        "else:\n",
        "  print(resposta_negativa)"
      ],
      "metadata": {
        "colab": {
          "base_uri": "https://localhost:8080/"
        },
        "id": "2yplhxwKF_zx",
        "outputId": "4e40d45f-46bf-4c08-e8b4-9aa5f132f091"
      },
      "execution_count": 4,
      "outputs": [
        {
          "output_type": "stream",
          "name": "stdout",
          "text": [
            "Digite a quantidade de alunos: 18\n",
            "Digite a quantidade de monitores: 2\n",
            "Digite a quantidade de professores: 2\n",
            "Pode ir\n"
          ]
        }
      ]
    },
    {
      "cell_type": "markdown",
      "source": [
        "# Aula 5"
      ],
      "metadata": {
        "id": "RYH1WQL4HGxZ"
      }
    },
    {
      "cell_type": "markdown",
      "source": [
        "Flíper é um jogo em que uma bolinha de metal cai por um labitinto até chegar a parte de baixo. O jogador ganha pontos dependendo do caminho que a bolinha percorre. Ele pode controlar o trajeto da bolinha movendo algumas portinhas no labirinto. Cada portinha pode estar em duas posições: 0 (virada para a esquerda) ou 1 (virada para a direita).\n",
        "\n",
        "No flíper mostrado na imagem, há duas portinhas. A portinha P está na posição 1 (virada para a direita)"
      ],
      "metadata": {
        "id": "83ocE-kfHNZZ"
      }
    }
  ]
}