{
  "nbformat": 4,
  "nbformat_minor": 0,
  "metadata": {
    "colab": {
      "provenance": [],
      "toc_visible": true,
      "authorship_tag": "ABX9TyPVCTWl2egAcBh9Me4XbjtS",
      "include_colab_link": true
    },
    "kernelspec": {
      "name": "python3",
      "display_name": "Python 3"
    },
    "language_info": {
      "name": "python"
    }
  },
  "cells": [
    {
      "cell_type": "markdown",
      "metadata": {
        "id": "view-in-github",
        "colab_type": "text"
      },
      "source": [
        "<a href=\"https://colab.research.google.com/github/OliveiraNaty/Repositor-Teste/blob/main/Untitled0.ipynb\" target=\"_parent\"><img src=\"https://colab.research.google.com/assets/colab-badge.svg\" alt=\"Open In Colab\"/></a>"
      ]
    },
    {
      "cell_type": "code",
      "execution_count": 1,
      "metadata": {
        "colab": {
          "base_uri": "https://localhost:8080/"
        },
        "id": "fxfzwS4gWKKs",
        "outputId": "af520181-c269-4a6a-9239-dc79cb487431"
      },
      "outputs": [
        {
          "output_type": "stream",
          "name": "stdout",
          "text": [
            "I Competição e Programação da Star\n"
          ]
        }
      ],
      "source": [
        "print(\"I Competição e Programação da Star\")"
      ]
    },
    {
      "cell_type": "code",
      "source": [
        "ano = \"II\"\n",
        "\n",
        "print(ano, \"Competição de Programação da Start\")"
      ],
      "metadata": {
        "colab": {
          "base_uri": "https://localhost:8080/"
        },
        "id": "eZQvp7vdWa2j",
        "outputId": "a7b3f42a-52b5-462f-89fb-142e08cd9657"
      },
      "execution_count": 9,
      "outputs": [
        {
          "output_type": "stream",
          "name": "stdout",
          "text": [
            "II Competição de Programação da Start\n"
          ]
        }
      ]
    }
  ]
}